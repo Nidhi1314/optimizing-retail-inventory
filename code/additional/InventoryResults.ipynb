{
  "cells": [
    {
      "cell_type": "code",
      "execution_count": null,
      "metadata": {
        "id": "mLEAJCeiWoaQ"
      },
      "outputs": [],
      "source": [
        "import pandas as pd\n",
        "import numpy as np\n",
        "import matplotlib.pyplot as plt\n",
        "import time\n",
        "import seaborn as sns\n",
        "\n",
        "%matplotlib inline"
      ]
    },
    {
      "cell_type": "markdown",
      "metadata": {
        "id": "Dfju8W38WoaR"
      },
      "source": [
        "# Load data"
      ]
    },
    {
      "cell_type": "code",
      "execution_count": null,
      "metadata": {
        "id": "ibA_i00KWoaS"
      },
      "outputs": [],
      "source": [
        "df_result_model     = pd.read_csv(\"validation_results.csv\")\n",
        "df_result_benchmark = pd.read_csv(\"../data/results/benchmark_results.csv\").drop(\"Unnamed: 0\", axis=1)\n",
        "df_product_categories = pd.read_csv(\"../data/favorita-grocery-sales-forecasting/items.csv\")"
      ]
    },
    {
      "cell_type": "markdown",
      "metadata": {
        "id": "P7TrnIbjWoaS"
      },
      "source": [
        "# Model results"
      ]
    },
    {
      "cell_type": "code",
      "execution_count": null,
      "metadata": {
        "id": "T52awlF1WoaS"
      },
      "outputs": [],
      "source": [
        "df_result_model[\"actual\"] = df_result_model.actual.apply(np.expm1)\n",
        "df_result_model[\"adj_prediction\"] = df_result_model.adj_prediction.apply(np.expm1)\n",
        "df_result_model[\"raw_prediction\"] = df_result_model.raw_prediction.apply(np.expm1)\n",
        "df_result_model[\"incumbent_prediction\"] = df_result_model.apply(\n",
        "    lambda row: row.adj_prediction if abs(row.actual-row.adj_prediction) < abs(row.actual-row.raw_prediction) else row.raw_prediction, axis=1\n",
        ")\n",
        "df_result_model[\"error\"] = df_result_model[\"actual\"] - df_result_model[\"incumbent_prediction\"]\n",
        "\n",
        "df_result_benchmark[\"error\"] = df_result_benchmark[\"actual\"] - df_result_benchmark[\"adj_prediction\"]"
      ]
    },
    {
      "cell_type": "code",
      "execution_count": null,
      "metadata": {
        "id": "2UPgXe9oWoaS",
        "outputId": "c029f061-f2cb-4657-9d84-97a2b1d538a4"
      },
      "outputs": [
        {
          "data": {
            "text/plain": [
              "(18.180315864508568, 24.80519699185326)"
            ]
          },
          "execution_count": 157,
          "metadata": {},
          "output_type": "execute_result"
        }
      ],
      "source": [
        "abs(df_result_model[\"error\"]).mean() , abs(df_result_benchmark[\"error\"]).mean()"
      ]
    },
    {
      "cell_type": "markdown",
      "metadata": {
        "id": "CNGk6fgJWoaS"
      },
      "source": [
        "# Make comparison dataframe"
      ]
    },
    {
      "cell_type": "code",
      "execution_count": null,
      "metadata": {
        "id": "HJvh-5-4WoaT"
      },
      "outputs": [],
      "source": [
        "df_comparison = pd.merge(df_result_model, df_result_benchmark, how=\"outer\",\n",
        "                            left_on=[\"horizon\",\"item_nbr\",\"store_nbr\"],\n",
        "                            right_on=[\"horizon\",\"item_nbr\",\"store_nbr\"],\n",
        "                             suffixes=('_model', '_benchmark'))"
      ]
    },
    {
      "cell_type": "code",
      "execution_count": null,
      "metadata": {
        "id": "-fdDWxbPWoaT",
        "outputId": "449759dd-b0c8-43a4-a822-8eb71316a2f1"
      },
      "outputs": [
        {
          "data": {
            "text/plain": [
              "array([ 105574,  105575,  105576, ..., 2057231, 2061404, 2081064])"
            ]
          },
          "execution_count": 159,
          "metadata": {},
          "output_type": "execute_result"
        }
      ],
      "source": [
        "df_comparison.item_nbr.unique()"
      ]
    },
    {
      "cell_type": "code",
      "execution_count": null,
      "metadata": {
        "id": "T_HPyvl-WoaT",
        "outputId": "ab7ec52e-4a63-49cd-b8b6-5c0c816d0ad1"
      },
      "outputs": [
        {
          "data": {
            "text/html": [
              "<div>\n",
              "<style scoped>\n",
              "    .dataframe tbody tr th:only-of-type {\n",
              "        vertical-align: middle;\n",
              "    }\n",
              "\n",
              "    .dataframe tbody tr th {\n",
              "        vertical-align: top;\n",
              "    }\n",
              "\n",
              "    .dataframe thead th {\n",
              "        text-align: right;\n",
              "    }\n",
              "</style>\n",
              "<table border=\"1\" class=\"dataframe\">\n",
              "  <thead>\n",
              "    <tr style=\"text-align: right;\">\n",
              "      <th></th>\n",
              "      <th>actual</th>\n",
              "      <th>model_prediction</th>\n",
              "      <th>benchmark_prediction</th>\n",
              "      <th>model_inventory</th>\n",
              "      <th>benchmark_inventory</th>\n",
              "    </tr>\n",
              "  </thead>\n",
              "  <tbody>\n",
              "    <tr>\n",
              "      <th>-1</th>\n",
              "      <td>NaN</td>\n",
              "      <td>NaN</td>\n",
              "      <td>NaN</td>\n",
              "      <td>28.724913</td>\n",
              "      <td>93.693529</td>\n",
              "    </tr>\n",
              "    <tr>\n",
              "      <th>12960</th>\n",
              "      <td>125.491022</td>\n",
              "      <td>111.803456</td>\n",
              "      <td>28.567133</td>\n",
              "      <td>0.000000</td>\n",
              "      <td>0.000000</td>\n",
              "    </tr>\n",
              "    <tr>\n",
              "      <th>12961</th>\n",
              "      <td>111.132025</td>\n",
              "      <td>120.184036</td>\n",
              "      <td>29.487642</td>\n",
              "      <td>0.000000</td>\n",
              "      <td>0.000000</td>\n",
              "    </tr>\n",
              "    <tr>\n",
              "      <th>12962</th>\n",
              "      <td>115.481992</td>\n",
              "      <td>110.437647</td>\n",
              "      <td>29.487642</td>\n",
              "      <td>0.000000</td>\n",
              "      <td>0.000000</td>\n",
              "    </tr>\n",
              "    <tr>\n",
              "      <th>12963</th>\n",
              "      <td>147.848033</td>\n",
              "      <td>138.757195</td>\n",
              "      <td>29.487642</td>\n",
              "      <td>0.000000</td>\n",
              "      <td>0.000000</td>\n",
              "    </tr>\n",
              "    <tr>\n",
              "      <th>12964</th>\n",
              "      <td>143.786019</td>\n",
              "      <td>156.969317</td>\n",
              "      <td>29.487642</td>\n",
              "      <td>0.000000</td>\n",
              "      <td>0.000000</td>\n",
              "    </tr>\n",
              "    <tr>\n",
              "      <th>12965</th>\n",
              "      <td>154.033997</td>\n",
              "      <td>157.237855</td>\n",
              "      <td>29.487642</td>\n",
              "      <td>0.000000</td>\n",
              "      <td>0.000000</td>\n",
              "    </tr>\n",
              "    <tr>\n",
              "      <th>12966</th>\n",
              "      <td>94.144977</td>\n",
              "      <td>102.763538</td>\n",
              "      <td>29.487642</td>\n",
              "      <td>0.000000</td>\n",
              "      <td>0.000000</td>\n",
              "    </tr>\n",
              "    <tr>\n",
              "      <th>12967</th>\n",
              "      <td>26.826997</td>\n",
              "      <td>104.061990</td>\n",
              "      <td>29.487642</td>\n",
              "      <td>0.000000</td>\n",
              "      <td>0.000000</td>\n",
              "    </tr>\n",
              "  </tbody>\n",
              "</table>\n",
              "</div>"
            ],
            "text/plain": [
              "            actual  model_prediction  benchmark_prediction  model_inventory  \\\n",
              "-1             NaN               NaN                   NaN        28.724913   \n",
              " 12960  125.491022        111.803456             28.567133         0.000000   \n",
              " 12961  111.132025        120.184036             29.487642         0.000000   \n",
              " 12962  115.481992        110.437647             29.487642         0.000000   \n",
              " 12963  147.848033        138.757195             29.487642         0.000000   \n",
              " 12964  143.786019        156.969317             29.487642         0.000000   \n",
              " 12965  154.033997        157.237855             29.487642         0.000000   \n",
              " 12966   94.144977        102.763538             29.487642         0.000000   \n",
              " 12967   26.826997        104.061990             29.487642         0.000000   \n",
              "\n",
              "        benchmark_inventory  \n",
              "-1                93.693529  \n",
              " 12960             0.000000  \n",
              " 12961             0.000000  \n",
              " 12962             0.000000  \n",
              " 12963             0.000000  \n",
              " 12964             0.000000  \n",
              " 12965             0.000000  \n",
              " 12966             0.000000  \n",
              " 12967             0.000000  "
            ]
          },
          "execution_count": 99,
          "metadata": {},
          "output_type": "execute_result"
        }
      ],
      "source": [
        "df_simulation = df_comparison[(df_comparison.store_nbr==1) & (df_comparison.item_nbr==2057231)][[\"actual_model\", \"incumbent_prediction\", \"adj_prediction_benchmark\"]]\n",
        "df_simulation = df_simulation.rename(columns={\"actual_model\": \"actual\",\n",
        "                                              \"incumbent_prediction\": \"model_prediction\",\n",
        "                                              \"adj_prediction_benchmark\": \"benchmark_prediction\"})\n",
        "\n",
        "\n",
        "# starting_inventory = df_simulation.actual.mean()\n",
        "model_safety_stock     = np.sqrt(((df_simulation.actual - df_simulation.model_prediction)**2).mean())\n",
        "benchmark_safety_stock = np.sqrt(((df_simulation.actual - df_simulation.benchmark_prediction)**2).mean())\n",
        "\n",
        "df_simulation[\"model_inventory\"] = 0\n",
        "df_simulation.loc[-1, \"model_inventory\"] = model_safety_stock\n",
        "\n",
        "df_simulation[\"benchmark_inventory\"] = 0\n",
        "df_simulation.loc[-1, \"benchmark_inventory\"] = benchmark_safety_stock\n",
        "\n",
        "df_simulation = df_simulation.sort_index()\n",
        "df_simulation"
      ]
    },
    {
      "cell_type": "code",
      "execution_count": null,
      "metadata": {
        "id": "8a-x-iAmWoaT",
        "outputId": "b75c6f4b-7a99-41fa-80b3-2af5c9ed696e"
      },
      "outputs": [
        {
          "data": {
            "text/html": [
              "<div>\n",
              "<style scoped>\n",
              "    .dataframe tbody tr th:only-of-type {\n",
              "        vertical-align: middle;\n",
              "    }\n",
              "\n",
              "    .dataframe tbody tr th {\n",
              "        vertical-align: top;\n",
              "    }\n",
              "\n",
              "    .dataframe thead th {\n",
              "        text-align: right;\n",
              "    }\n",
              "</style>\n",
              "<table border=\"1\" class=\"dataframe\">\n",
              "  <thead>\n",
              "    <tr style=\"text-align: right;\">\n",
              "      <th></th>\n",
              "      <th>actual</th>\n",
              "      <th>model_prediction</th>\n",
              "      <th>benchmark_prediction</th>\n",
              "      <th>model_inventory</th>\n",
              "      <th>benchmark_inventory</th>\n",
              "      <th>model_stock_on_hand</th>\n",
              "      <th>model_stockout</th>\n",
              "      <th>benchmark_stock_on_hand</th>\n",
              "      <th>benchmark_stockout</th>\n",
              "    </tr>\n",
              "  </thead>\n",
              "  <tbody>\n",
              "    <tr>\n",
              "      <th>0</th>\n",
              "      <td>NaN</td>\n",
              "      <td>NaN</td>\n",
              "      <td>NaN</td>\n",
              "      <td>28.724913</td>\n",
              "      <td>93.693529</td>\n",
              "      <td>28.724913</td>\n",
              "      <td>0</td>\n",
              "      <td>93.693529</td>\n",
              "      <td>0.000000</td>\n",
              "    </tr>\n",
              "    <tr>\n",
              "      <th>1</th>\n",
              "      <td>125.491022</td>\n",
              "      <td>111.803456</td>\n",
              "      <td>28.567133</td>\n",
              "      <td>15.037346</td>\n",
              "      <td>-3.230360</td>\n",
              "      <td>15.037346</td>\n",
              "      <td>0</td>\n",
              "      <td>0.000000</td>\n",
              "      <td>-3.230360</td>\n",
              "    </tr>\n",
              "    <tr>\n",
              "      <th>2</th>\n",
              "      <td>111.132025</td>\n",
              "      <td>120.184036</td>\n",
              "      <td>29.487642</td>\n",
              "      <td>37.776924</td>\n",
              "      <td>12.049146</td>\n",
              "      <td>37.776924</td>\n",
              "      <td>0</td>\n",
              "      <td>12.049146</td>\n",
              "      <td>0.000000</td>\n",
              "    </tr>\n",
              "    <tr>\n",
              "      <th>3</th>\n",
              "      <td>115.481992</td>\n",
              "      <td>110.437647</td>\n",
              "      <td>29.487642</td>\n",
              "      <td>23.680568</td>\n",
              "      <td>7.699180</td>\n",
              "      <td>23.680568</td>\n",
              "      <td>0</td>\n",
              "      <td>7.699180</td>\n",
              "      <td>0.000000</td>\n",
              "    </tr>\n",
              "    <tr>\n",
              "      <th>4</th>\n",
              "      <td>147.848033</td>\n",
              "      <td>138.757195</td>\n",
              "      <td>29.487642</td>\n",
              "      <td>19.634075</td>\n",
              "      <td>-24.666862</td>\n",
              "      <td>19.634075</td>\n",
              "      <td>0</td>\n",
              "      <td>0.000000</td>\n",
              "      <td>-24.666862</td>\n",
              "    </tr>\n",
              "    <tr>\n",
              "      <th>5</th>\n",
              "      <td>143.786019</td>\n",
              "      <td>156.969317</td>\n",
              "      <td>29.487642</td>\n",
              "      <td>41.908211</td>\n",
              "      <td>-20.604848</td>\n",
              "      <td>41.908211</td>\n",
              "      <td>0</td>\n",
              "      <td>0.000000</td>\n",
              "      <td>-20.604848</td>\n",
              "    </tr>\n",
              "    <tr>\n",
              "      <th>6</th>\n",
              "      <td>154.033997</td>\n",
              "      <td>157.237855</td>\n",
              "      <td>29.487642</td>\n",
              "      <td>31.928771</td>\n",
              "      <td>-30.852826</td>\n",
              "      <td>31.928771</td>\n",
              "      <td>0</td>\n",
              "      <td>0.000000</td>\n",
              "      <td>-30.852826</td>\n",
              "    </tr>\n",
              "    <tr>\n",
              "      <th>7</th>\n",
              "      <td>94.144977</td>\n",
              "      <td>102.763538</td>\n",
              "      <td>29.487642</td>\n",
              "      <td>37.343474</td>\n",
              "      <td>29.036194</td>\n",
              "      <td>37.343474</td>\n",
              "      <td>0</td>\n",
              "      <td>29.036194</td>\n",
              "      <td>0.000000</td>\n",
              "    </tr>\n",
              "    <tr>\n",
              "      <th>8</th>\n",
              "      <td>26.826997</td>\n",
              "      <td>104.061990</td>\n",
              "      <td>29.487642</td>\n",
              "      <td>105.959906</td>\n",
              "      <td>96.354175</td>\n",
              "      <td>105.959906</td>\n",
              "      <td>0</td>\n",
              "      <td>96.354175</td>\n",
              "      <td>0.000000</td>\n",
              "    </tr>\n",
              "  </tbody>\n",
              "</table>\n",
              "</div>"
            ],
            "text/plain": [
              "       actual  model_prediction  benchmark_prediction  model_inventory  \\\n",
              "0         NaN               NaN                   NaN        28.724913   \n",
              "1  125.491022        111.803456             28.567133        15.037346   \n",
              "2  111.132025        120.184036             29.487642        37.776924   \n",
              "3  115.481992        110.437647             29.487642        23.680568   \n",
              "4  147.848033        138.757195             29.487642        19.634075   \n",
              "5  143.786019        156.969317             29.487642        41.908211   \n",
              "6  154.033997        157.237855             29.487642        31.928771   \n",
              "7   94.144977        102.763538             29.487642        37.343474   \n",
              "8   26.826997        104.061990             29.487642       105.959906   \n",
              "\n",
              "   benchmark_inventory  model_stock_on_hand  model_stockout  \\\n",
              "0            93.693529            28.724913               0   \n",
              "1            -3.230360            15.037346               0   \n",
              "2            12.049146            37.776924               0   \n",
              "3             7.699180            23.680568               0   \n",
              "4           -24.666862            19.634075               0   \n",
              "5           -20.604848            41.908211               0   \n",
              "6           -30.852826            31.928771               0   \n",
              "7            29.036194            37.343474               0   \n",
              "8            96.354175           105.959906               0   \n",
              "\n",
              "   benchmark_stock_on_hand  benchmark_stockout  \n",
              "0                93.693529            0.000000  \n",
              "1                 0.000000           -3.230360  \n",
              "2                12.049146            0.000000  \n",
              "3                 7.699180            0.000000  \n",
              "4                 0.000000          -24.666862  \n",
              "5                 0.000000          -20.604848  \n",
              "6                 0.000000          -30.852826  \n",
              "7                29.036194            0.000000  \n",
              "8                96.354175            0.000000  "
            ]
          },
          "execution_count": 102,
          "metadata": {},
          "output_type": "execute_result"
        }
      ],
      "source": [
        "data_matrix = df_simulation.values\n",
        "for idx, row in enumerate(data_matrix):\n",
        "    if idx == 0:\n",
        "        continue\n",
        "    else:\n",
        "        demand = data_matrix[idx, 0]\n",
        "\n",
        "        model_order_up_to     = data_matrix[idx, 1] + model_safety_stock\n",
        "        benchmark_order_up_to = data_matrix[idx, 2] + benchmark_safety_stock\n",
        "\n",
        "        model_order     = max(model_order_up_to - data_matrix[idx-1, 3], 0)\n",
        "        benchmark_order = max(benchmark_order_up_to - data_matrix[idx-1, 4], 0)\n",
        "\n",
        "        row[3] = data_matrix[idx-1, 3] + model_order - demand # max(data_matrix[idx-1, 3] + data_matrix[idx, 1] - data_matrix[idx, 0] + model_safety_stock, 0)\n",
        "        row[4] = data_matrix[idx-1, 4] + benchmark_order - demand # max(data_matrix[idx-1, 4] + data_matrix[idx, 2] - data_matrix[idx, 0] + benchmark_safety_stock, 0)\n",
        "\n",
        "df_simulation = pd.DataFrame(data_matrix, columns=[\"actual\", \"model_prediction\", \"benchmark_prediction\", \"model_inventory\", \"benchmark_inventory\"])\n",
        "\n",
        "df_simulation[\"model_stock_on_hand\"] = df_simulation[\"model_inventory\"].apply(lambda x: max(0, x))\n",
        "df_simulation[\"model_stockout\"]      = df_simulation[\"model_inventory\"].apply(lambda x: min(0, x))\n",
        "df_simulation[\"model_stockout\"]      = (-1) * df_simulation[\"model_stockout\"]\n",
        "\n",
        "df_simulation[\"benchmark_stock_on_hand\"] = df_simulation[\"benchmark_inventory\"].apply(lambda x: max(0, x))\n",
        "df_simulation[\"benchmark_stockout\"]      = df_simulation[\"benchmark_inventory\"].apply(lambda x: min(0, x))\n",
        "df_simulation[\"benchmark_stockout\"]      = (-1) * df_simulation[\"benchmark_stockout\"]\n",
        "\n",
        "df_simulation"
      ]
    },
    {
      "cell_type": "code",
      "execution_count": null,
      "metadata": {
        "id": "aazcaWyxWoaT",
        "outputId": "ef6d47e5-d435-4749-9c39-5b085e89801e"
      },
      "outputs": [
        {
          "data": {
            "text/plain": [
              "<matplotlib.axes._subplots.AxesSubplot at 0x1238b6c10>"
            ]
          },
          "execution_count": 220,
          "metadata": {},
          "output_type": "execute_result"
        },
        {
          "data": {
            "image/png": "[encoded data removed]",
            "text/plain": [
              "<Figure size 1440x360 with 1 Axes>"
            ]
          },
          "metadata": {
            "needs_background": "light"
          },
          "output_type": "display_data"
        }
      ],
      "source": [
        "df_simulation[[\"model_inventory\",\"benchmark_inventory\"]].plot(figsize=(20, 5))"
      ]
    },
    {
      "cell_type": "code",
      "execution_count": null,
      "metadata": {
        "id": "JKC-AvfNWoaT",
        "outputId": "2a1cf88b-190e-40c0-b969-d90ae5a36042"
      },
      "outputs": [
        {
          "data": {
            "text/html": [
              "<div>\n",
              "<style scoped>\n",
              "    .dataframe tbody tr th:only-of-type {\n",
              "        vertical-align: middle;\n",
              "    }\n",
              "\n",
              "    .dataframe tbody tr th {\n",
              "        vertical-align: top;\n",
              "    }\n",
              "\n",
              "    .dataframe thead th {\n",
              "        text-align: right;\n",
              "    }\n",
              "</style>\n",
              "<table border=\"1\" class=\"dataframe\">\n",
              "  <thead>\n",
              "    <tr style=\"text-align: right;\">\n",
              "      <th></th>\n",
              "      <th>actual</th>\n",
              "      <th>model_prediction</th>\n",
              "      <th>benchmark_prediction</th>\n",
              "      <th>model_inventory</th>\n",
              "      <th>benchmark_inventory</th>\n",
              "      <th>model_stock_on_hand</th>\n",
              "      <th>model_stockout</th>\n",
              "      <th>benchmark_stock_on_hand</th>\n",
              "      <th>benchmark_stockout</th>\n",
              "    </tr>\n",
              "  </thead>\n",
              "  <tbody>\n",
              "    <tr>\n",
              "      <th>0</th>\n",
              "      <td>NaN</td>\n",
              "      <td>NaN</td>\n",
              "      <td>NaN</td>\n",
              "      <td>108.995799</td>\n",
              "      <td>496.275403</td>\n",
              "      <td>108.995799</td>\n",
              "      <td>0</td>\n",
              "      <td>496.275403</td>\n",
              "      <td>0</td>\n",
              "    </tr>\n",
              "    <tr>\n",
              "      <th>1</th>\n",
              "      <td>362.999995</td>\n",
              "      <td>370.958125</td>\n",
              "      <td>44.272882</td>\n",
              "      <td>116.953929</td>\n",
              "      <td>177.548290</td>\n",
              "      <td>116.953929</td>\n",
              "      <td>0</td>\n",
              "      <td>177.548290</td>\n",
              "      <td>0</td>\n",
              "    </tr>\n",
              "    <tr>\n",
              "      <th>2</th>\n",
              "      <td>369.000061</td>\n",
              "      <td>356.299502</td>\n",
              "      <td>48.010153</td>\n",
              "      <td>96.295240</td>\n",
              "      <td>175.285495</td>\n",
              "      <td>96.295240</td>\n",
              "      <td>0</td>\n",
              "      <td>175.285495</td>\n",
              "      <td>0</td>\n",
              "    </tr>\n",
              "    <tr>\n",
              "      <th>3</th>\n",
              "      <td>315.999944</td>\n",
              "      <td>341.023320</td>\n",
              "      <td>48.010153</td>\n",
              "      <td>134.019175</td>\n",
              "      <td>228.285612</td>\n",
              "      <td>134.019175</td>\n",
              "      <td>0</td>\n",
              "      <td>228.285612</td>\n",
              "      <td>0</td>\n",
              "    </tr>\n",
              "    <tr>\n",
              "      <th>4</th>\n",
              "      <td>386.999950</td>\n",
              "      <td>313.038183</td>\n",
              "      <td>48.010153</td>\n",
              "      <td>35.034032</td>\n",
              "      <td>157.285606</td>\n",
              "      <td>35.034032</td>\n",
              "      <td>0</td>\n",
              "      <td>157.285606</td>\n",
              "      <td>0</td>\n",
              "    </tr>\n",
              "    <tr>\n",
              "      <th>5</th>\n",
              "      <td>342.999945</td>\n",
              "      <td>372.139642</td>\n",
              "      <td>48.010153</td>\n",
              "      <td>138.135496</td>\n",
              "      <td>201.285611</td>\n",
              "      <td>138.135496</td>\n",
              "      <td>0</td>\n",
              "      <td>201.285611</td>\n",
              "      <td>0</td>\n",
              "    </tr>\n",
              "    <tr>\n",
              "      <th>6</th>\n",
              "      <td>402.000037</td>\n",
              "      <td>348.277394</td>\n",
              "      <td>48.010153</td>\n",
              "      <td>55.273156</td>\n",
              "      <td>142.285519</td>\n",
              "      <td>55.273156</td>\n",
              "      <td>0</td>\n",
              "      <td>142.285519</td>\n",
              "      <td>0</td>\n",
              "    </tr>\n",
              "    <tr>\n",
              "      <th>7</th>\n",
              "      <td>381.000051</td>\n",
              "      <td>325.553803</td>\n",
              "      <td>48.010153</td>\n",
              "      <td>53.549551</td>\n",
              "      <td>163.285505</td>\n",
              "      <td>53.549551</td>\n",
              "      <td>0</td>\n",
              "      <td>163.285505</td>\n",
              "      <td>0</td>\n",
              "    </tr>\n",
              "    <tr>\n",
              "      <th>8</th>\n",
              "      <td>164.999967</td>\n",
              "      <td>313.315333</td>\n",
              "      <td>48.010153</td>\n",
              "      <td>257.311165</td>\n",
              "      <td>379.285589</td>\n",
              "      <td>257.311165</td>\n",
              "      <td>0</td>\n",
              "      <td>379.285589</td>\n",
              "      <td>0</td>\n",
              "    </tr>\n",
              "  </tbody>\n",
              "</table>\n",
              "</div>"
            ],
            "text/plain": [
              "       actual  model_prediction  benchmark_prediction  model_inventory  \\\n",
              "0         NaN               NaN                   NaN       108.995799   \n",
              "1  362.999995        370.958125             44.272882       116.953929   \n",
              "2  369.000061        356.299502             48.010153        96.295240   \n",
              "3  315.999944        341.023320             48.010153       134.019175   \n",
              "4  386.999950        313.038183             48.010153        35.034032   \n",
              "5  342.999945        372.139642             48.010153       138.135496   \n",
              "6  402.000037        348.277394             48.010153        55.273156   \n",
              "7  381.000051        325.553803             48.010153        53.549551   \n",
              "8  164.999967        313.315333             48.010153       257.311165   \n",
              "\n",
              "   benchmark_inventory  model_stock_on_hand  model_stockout  \\\n",
              "0           496.275403           108.995799               0   \n",
              "1           177.548290           116.953929               0   \n",
              "2           175.285495            96.295240               0   \n",
              "3           228.285612           134.019175               0   \n",
              "4           157.285606            35.034032               0   \n",
              "5           201.285611           138.135496               0   \n",
              "6           142.285519            55.273156               0   \n",
              "7           163.285505            53.549551               0   \n",
              "8           379.285589           257.311165               0   \n",
              "\n",
              "   benchmark_stock_on_hand  benchmark_stockout  \n",
              "0               496.275403                   0  \n",
              "1               177.548290                   0  \n",
              "2               175.285495                   0  \n",
              "3               228.285612                   0  \n",
              "4               157.285606                   0  \n",
              "5               201.285611                   0  \n",
              "6               142.285519                   0  \n",
              "7               163.285505                   0  \n",
              "8               379.285589                   0  "
            ]
          },
          "execution_count": 160,
          "metadata": {},
          "output_type": "execute_result"
        }
      ],
      "source": [
        "df_simulation"
      ]
    },
    {
      "cell_type": "markdown",
      "metadata": {
        "id": "D_iVBX0gWoaT"
      },
      "source": [
        "# Calculation loop"
      ]
    },
    {
      "cell_type": "code",
      "execution_count": null,
      "metadata": {
        "id": "Y55zyPAnWoaT",
        "outputId": "62156a5f-d139-4df7-815b-a8400e532609"
      },
      "outputs": [
        {
          "data": {
            "text/plain": [
              "1.6448536269514722"
            ]
          },
          "execution_count": 136,
          "metadata": {},
          "output_type": "execute_result"
        }
      ],
      "source": [
        "from scipy.stats import norm\n",
        "norm.ppf(0.95)"
      ]
    },
    {
      "cell_type": "code",
      "execution_count": null,
      "metadata": {
        "id": "8zRRDBKUWoaU",
        "outputId": "ec9f3fdb-1529-40cc-ee58-f627f8209e0b"
      },
      "outputs": [
        {
          "name": "stdout",
          "output_type": "stream",
          "text": [
            "processing 87641 / 87642\r"
          ]
        }
      ],
      "source": [
        "df_simulation_results = pd.DataFrame()\n",
        "\n",
        "total = len(df_comparison.groupby([\"store_nbr\", \"item_nbr\"]).size().index.values)\n",
        "\n",
        "for idx, (store, item) in enumerate(df_comparison.groupby([\"store_nbr\", \"item_nbr\"]).size().index.values):\n",
        "\n",
        "    print(\"processing {} / {}\".format(idx, total), end=\"\\r\")\n",
        "\n",
        "    df_simulation = df_comparison[(df_comparison.store_nbr==store) & (df_comparison.item_nbr==item)][[\"actual_model\", \"incumbent_prediction\", \"adj_prediction_benchmark\"]]\n",
        "    df_simulation = df_simulation.rename(columns={\"actual_model\": \"actual\",\n",
        "                                                  \"incumbent_prediction\": \"model_prediction\",\n",
        "                                                  \"adj_prediction_benchmark\": \"benchmark_prediction\"})\n",
        "\n",
        "\n",
        "    # starting_inventory = df_simulation.actual.mean()\n",
        "    model_safety_stock     = np.sqrt(((df_simulation.actual - df_simulation.model_prediction)**2).mean())*norm.ppf(0.98)\n",
        "    benchmark_safety_stock = np.sqrt(((df_simulation.actual - df_simulation.benchmark_prediction)**2).mean())*norm.ppf(0.95)\n",
        "\n",
        "    df_simulation[\"model_inventory\"] = 0\n",
        "    df_simulation.loc[-1, \"model_inventory\"] = max(model_safety_stock, benchmark_safety_stock)\n",
        "\n",
        "    df_simulation[\"benchmark_inventory\"] = 0\n",
        "    df_simulation.loc[-1, \"benchmark_inventory\"] = max(model_safety_stock, benchmark_safety_stock)\n",
        "\n",
        "    df_simulation = df_simulation.sort_index()\n",
        "\n",
        "    data_matrix = df_simulation.values\n",
        "    for idx, row in enumerate(data_matrix):\n",
        "        if idx == 0:\n",
        "            continue\n",
        "        else:\n",
        "            demand = data_matrix[idx, 0]\n",
        "\n",
        "            model_order_up_to     = data_matrix[idx, 1] + model_safety_stock\n",
        "            benchmark_order_up_to = data_matrix[idx, 2] + benchmark_safety_stock\n",
        "\n",
        "            model_order     = max(model_order_up_to - data_matrix[idx-1, 3], 0)\n",
        "            benchmark_order = max(benchmark_order_up_to - data_matrix[idx-1, 4], 0)\n",
        "\n",
        "            row[3] = data_matrix[idx-1, 3] + model_order - demand # max(data_matrix[idx-1, 3] + data_matrix[idx, 1] - data_matrix[idx, 0] + model_safety_stock, 0)\n",
        "            row[4] = data_matrix[idx-1, 4] + benchmark_order - demand # max(data_matrix[idx-1, 4] + data_matrix[idx, 2] - data_matrix[idx, 0] + benchmark_safety_stock, 0)\n",
        "\n",
        "    df_simulation = pd.DataFrame(data_matrix, columns=[\"actual\", \"model_prediction\", \"benchmark_prediction\", \"model_inventory\", \"benchmark_inventory\"])\n",
        "\n",
        "    df_simulation[\"model_stock_on_hand\"] = df_simulation[\"model_inventory\"].apply(lambda x: max(0, x))\n",
        "    df_simulation[\"model_stockout\"]      = (-1) * df_simulation[\"model_inventory\"].apply(lambda x: min(0, x))\n",
        "\n",
        "    df_simulation[\"benchmark_stock_on_hand\"] = df_simulation[\"benchmark_inventory\"].apply(lambda x: max(0, x))\n",
        "    df_simulation[\"benchmark_stockout\"]      = (-1) * df_simulation[\"benchmark_inventory\"].apply(lambda x: min(0, x))\n",
        "\n",
        "    df_simulation_results = df_simulation_results.append(df_simulation)\n",
        "\n",
        "df_simulation_results = df_simulation_results.reset_index().rename(columns={\"index\": \"horizon\"})"
      ]
    },
    {
      "cell_type": "code",
      "execution_count": null,
      "metadata": {
        "id": "usvwE1aiWoaU",
        "outputId": "98929dbb-410c-4e43-b942-6a3f4d27f9bd"
      },
      "outputs": [
        {
          "data": {
            "text/html": [
              "<div>\n",
              "<style scoped>\n",
              "    .dataframe tbody tr th:only-of-type {\n",
              "        vertical-align: middle;\n",
              "    }\n",
              "\n",
              "    .dataframe tbody tr th {\n",
              "        vertical-align: top;\n",
              "    }\n",
              "\n",
              "    .dataframe thead th {\n",
              "        text-align: right;\n",
              "    }\n",
              "</style>\n",
              "<table border=\"1\" class=\"dataframe\">\n",
              "  <thead>\n",
              "    <tr style=\"text-align: right;\">\n",
              "      <th></th>\n",
              "      <th>horizon</th>\n",
              "      <th>horizon</th>\n",
              "      <th>actual</th>\n",
              "      <th>model_prediction</th>\n",
              "      <th>benchmark_prediction</th>\n",
              "      <th>model_inventory</th>\n",
              "      <th>benchmark_inventory</th>\n",
              "      <th>model_stock_on_hand</th>\n",
              "      <th>model_stockout</th>\n",
              "      <th>benchmark_stock_on_hand</th>\n",
              "      <th>benchmark_stockout</th>\n",
              "    </tr>\n",
              "  </thead>\n",
              "  <tbody>\n",
              "    <tr>\n",
              "      <th>0</th>\n",
              "      <td>0</td>\n",
              "      <td>0</td>\n",
              "      <td>NaN</td>\n",
              "      <td>NaN</td>\n",
              "      <td>NaN</td>\n",
              "      <td>0.174252</td>\n",
              "      <td>0.174252</td>\n",
              "      <td>0.174252</td>\n",
              "      <td>0.0</td>\n",
              "      <td>0.174252</td>\n",
              "      <td>0.0</td>\n",
              "    </tr>\n",
              "    <tr>\n",
              "      <th>1</th>\n",
              "      <td>1</td>\n",
              "      <td>1</td>\n",
              "      <td>0.000000</td>\n",
              "      <td>0.016103</td>\n",
              "      <td>0.000000</td>\n",
              "      <td>0.190354</td>\n",
              "      <td>0.174252</td>\n",
              "      <td>0.190354</td>\n",
              "      <td>0.0</td>\n",
              "      <td>0.174252</td>\n",
              "      <td>0.0</td>\n",
              "    </tr>\n",
              "    <tr>\n",
              "      <th>2</th>\n",
              "      <td>2</td>\n",
              "      <td>2</td>\n",
              "      <td>0.000000</td>\n",
              "      <td>0.030738</td>\n",
              "      <td>0.000000</td>\n",
              "      <td>0.204990</td>\n",
              "      <td>0.174252</td>\n",
              "      <td>0.204990</td>\n",
              "      <td>0.0</td>\n",
              "      <td>0.174252</td>\n",
              "      <td>0.0</td>\n",
              "    </tr>\n",
              "    <tr>\n",
              "      <th>3</th>\n",
              "      <td>3</td>\n",
              "      <td>3</td>\n",
              "      <td>0.000000</td>\n",
              "      <td>0.053560</td>\n",
              "      <td>0.000000</td>\n",
              "      <td>0.227812</td>\n",
              "      <td>0.174252</td>\n",
              "      <td>0.227812</td>\n",
              "      <td>0.0</td>\n",
              "      <td>0.174252</td>\n",
              "      <td>0.0</td>\n",
              "    </tr>\n",
              "    <tr>\n",
              "      <th>4</th>\n",
              "      <td>4</td>\n",
              "      <td>4</td>\n",
              "      <td>0.000000</td>\n",
              "      <td>0.036290</td>\n",
              "      <td>0.000000</td>\n",
              "      <td>0.227812</td>\n",
              "      <td>0.174252</td>\n",
              "      <td>0.227812</td>\n",
              "      <td>0.0</td>\n",
              "      <td>0.174252</td>\n",
              "      <td>0.0</td>\n",
              "    </tr>\n",
              "    <tr>\n",
              "      <th>...</th>\n",
              "      <td>...</td>\n",
              "      <td>...</td>\n",
              "      <td>...</td>\n",
              "      <td>...</td>\n",
              "      <td>...</td>\n",
              "      <td>...</td>\n",
              "      <td>...</td>\n",
              "      <td>...</td>\n",
              "      <td>...</td>\n",
              "      <td>...</td>\n",
              "      <td>...</td>\n",
              "    </tr>\n",
              "    <tr>\n",
              "      <th>14602</th>\n",
              "      <td>14602</td>\n",
              "      <td>4</td>\n",
              "      <td>49.000003</td>\n",
              "      <td>37.385290</td>\n",
              "      <td>6.293194</td>\n",
              "      <td>31.097086</td>\n",
              "      <td>39.688055</td>\n",
              "      <td>31.097086</td>\n",
              "      <td>0.0</td>\n",
              "      <td>39.688055</td>\n",
              "      <td>0.0</td>\n",
              "    </tr>\n",
              "    <tr>\n",
              "      <th>14603</th>\n",
              "      <td>14603</td>\n",
              "      <td>5</td>\n",
              "      <td>72.000014</td>\n",
              "      <td>37.740502</td>\n",
              "      <td>6.293194</td>\n",
              "      <td>8.452288</td>\n",
              "      <td>16.688044</td>\n",
              "      <td>8.452288</td>\n",
              "      <td>0.0</td>\n",
              "      <td>16.688044</td>\n",
              "      <td>0.0</td>\n",
              "    </tr>\n",
              "    <tr>\n",
              "      <th>14604</th>\n",
              "      <td>14604</td>\n",
              "      <td>6</td>\n",
              "      <td>61.999992</td>\n",
              "      <td>47.043337</td>\n",
              "      <td>6.293194</td>\n",
              "      <td>27.755144</td>\n",
              "      <td>26.688066</td>\n",
              "      <td>27.755144</td>\n",
              "      <td>0.0</td>\n",
              "      <td>26.688066</td>\n",
              "      <td>0.0</td>\n",
              "    </tr>\n",
              "    <tr>\n",
              "      <th>14605</th>\n",
              "      <td>14605</td>\n",
              "      <td>7</td>\n",
              "      <td>56.999995</td>\n",
              "      <td>55.803611</td>\n",
              "      <td>6.293194</td>\n",
              "      <td>41.515415</td>\n",
              "      <td>31.688063</td>\n",
              "      <td>41.515415</td>\n",
              "      <td>0.0</td>\n",
              "      <td>31.688063</td>\n",
              "      <td>0.0</td>\n",
              "    </tr>\n",
              "    <tr>\n",
              "      <th>14606</th>\n",
              "      <td>14606</td>\n",
              "      <td>8</td>\n",
              "      <td>13.000001</td>\n",
              "      <td>37.832209</td>\n",
              "      <td>6.293194</td>\n",
              "      <td>67.544007</td>\n",
              "      <td>75.688057</td>\n",
              "      <td>67.544007</td>\n",
              "      <td>0.0</td>\n",
              "      <td>75.688057</td>\n",
              "      <td>0.0</td>\n",
              "    </tr>\n",
              "  </tbody>\n",
              "</table>\n",
              "<p>14607 rows × 11 columns</p>\n",
              "</div>"
            ],
            "text/plain": [
              "       horizon  horizon     actual  model_prediction  benchmark_prediction  \\\n",
              "0            0        0        NaN               NaN                   NaN   \n",
              "1            1        1   0.000000          0.016103              0.000000   \n",
              "2            2        2   0.000000          0.030738              0.000000   \n",
              "3            3        3   0.000000          0.053560              0.000000   \n",
              "4            4        4   0.000000          0.036290              0.000000   \n",
              "...        ...      ...        ...               ...                   ...   \n",
              "14602    14602        4  49.000003         37.385290              6.293194   \n",
              "14603    14603        5  72.000014         37.740502              6.293194   \n",
              "14604    14604        6  61.999992         47.043337              6.293194   \n",
              "14605    14605        7  56.999995         55.803611              6.293194   \n",
              "14606    14606        8  13.000001         37.832209              6.293194   \n",
              "\n",
              "       model_inventory  benchmark_inventory  model_stock_on_hand  \\\n",
              "0             0.174252             0.174252             0.174252   \n",
              "1             0.190354             0.174252             0.190354   \n",
              "2             0.204990             0.174252             0.204990   \n",
              "3             0.227812             0.174252             0.227812   \n",
              "4             0.227812             0.174252             0.227812   \n",
              "...                ...                  ...                  ...   \n",
              "14602        31.097086            39.688055            31.097086   \n",
              "14603         8.452288            16.688044             8.452288   \n",
              "14604        27.755144            26.688066            27.755144   \n",
              "14605        41.515415            31.688063            41.515415   \n",
              "14606        67.544007            75.688057            67.544007   \n",
              "\n",
              "       model_stockout  benchmark_stock_on_hand  benchmark_stockout  \n",
              "0                 0.0                 0.174252                 0.0  \n",
              "1                 0.0                 0.174252                 0.0  \n",
              "2                 0.0                 0.174252                 0.0  \n",
              "3                 0.0                 0.174252                 0.0  \n",
              "4                 0.0                 0.174252                 0.0  \n",
              "...               ...                      ...                 ...  \n",
              "14602             0.0                39.688055                 0.0  \n",
              "14603             0.0                16.688044                 0.0  \n",
              "14604             0.0                26.688066                 0.0  \n",
              "14605             0.0                31.688063                 0.0  \n",
              "14606             0.0                75.688057                 0.0  \n",
              "\n",
              "[14607 rows x 11 columns]"
            ]
          },
          "execution_count": 183,
          "metadata": {},
          "output_type": "execute_result"
        }
      ],
      "source": [
        "pd.merge(df_simulation_results, df_product_categories, how=\"left\""
      ]
    },
    {
      "cell_type": "code",
      "execution_count": null,
      "metadata": {
        "id": "2zn0Fx-_WoaU",
        "outputId": "296e1419-7fd0-43b8-c1f4-9a621c87a153"
      },
      "outputs": [
        {
          "data": {
            "text/html": [
              "<div>\n",
              "<style scoped>\n",
              "    .dataframe tbody tr th:only-of-type {\n",
              "        vertical-align: middle;\n",
              "    }\n",
              "\n",
              "    .dataframe tbody tr th {\n",
              "        vertical-align: top;\n",
              "    }\n",
              "\n",
              "    .dataframe thead th {\n",
              "        text-align: right;\n",
              "    }\n",
              "</style>\n",
              "<table border=\"1\" class=\"dataframe\">\n",
              "  <thead>\n",
              "    <tr style=\"text-align: right;\">\n",
              "      <th></th>\n",
              "      <th>xgBoostModel</th>\n",
              "      <th>Base-Lift</th>\n",
              "    </tr>\n",
              "    <tr>\n",
              "      <th>horizon</th>\n",
              "      <th></th>\n",
              "      <th></th>\n",
              "    </tr>\n",
              "  </thead>\n",
              "  <tbody>\n",
              "    <tr>\n",
              "      <th>0</th>\n",
              "      <td>5.424681e+06</td>\n",
              "      <td>5.424681e+06</td>\n",
              "    </tr>\n",
              "    <tr>\n",
              "      <th>1</th>\n",
              "      <td>4.617924e+06</td>\n",
              "      <td>4.592362e+06</td>\n",
              "    </tr>\n",
              "    <tr>\n",
              "      <th>2</th>\n",
              "      <td>4.349266e+06</td>\n",
              "      <td>4.480514e+06</td>\n",
              "    </tr>\n",
              "    <tr>\n",
              "      <th>3</th>\n",
              "      <td>4.477817e+06</td>\n",
              "      <td>4.799438e+06</td>\n",
              "    </tr>\n",
              "    <tr>\n",
              "      <th>4</th>\n",
              "      <td>4.373374e+06</td>\n",
              "      <td>4.757017e+06</td>\n",
              "    </tr>\n",
              "    <tr>\n",
              "      <th>5</th>\n",
              "      <td>4.179985e+06</td>\n",
              "      <td>4.691595e+06</td>\n",
              "    </tr>\n",
              "    <tr>\n",
              "      <th>6</th>\n",
              "      <td>3.842600e+06</td>\n",
              "      <td>4.321459e+06</td>\n",
              "    </tr>\n",
              "    <tr>\n",
              "      <th>7</th>\n",
              "      <td>4.533251e+06</td>\n",
              "      <td>5.011804e+06</td>\n",
              "    </tr>\n",
              "    <tr>\n",
              "      <th>8</th>\n",
              "      <td>6.780623e+06</td>\n",
              "      <td>7.656952e+06</td>\n",
              "    </tr>\n",
              "  </tbody>\n",
              "</table>\n",
              "</div>"
            ],
            "text/plain": [
              "         xgBoostModel     Base-Lift\n",
              "horizon                            \n",
              "0        5.424681e+06  5.424681e+06\n",
              "1        4.617924e+06  4.592362e+06\n",
              "2        4.349266e+06  4.480514e+06\n",
              "3        4.477817e+06  4.799438e+06\n",
              "4        4.373374e+06  4.757017e+06\n",
              "5        4.179985e+06  4.691595e+06\n",
              "6        3.842600e+06  4.321459e+06\n",
              "7        4.533251e+06  5.011804e+06\n",
              "8        6.780623e+06  7.656952e+06"
            ]
          },
          "execution_count": 251,
          "metadata": {},
          "output_type": "execute_result"
        },
        {
          "data": {
            "image/png": "[encoded data removed]",
            "text/plain": [
              "<Figure size 720x720 with 1 Axes>"
            ]
          },
          "metadata": {
            "needs_background": "light"
          },
          "output_type": "display_data"
        }
      ],
      "source": [
        "df_local = df_simulation_results.groupby(\"horizon\").agg({\"model_stock_on_hand\": \"sum\", \"benchmark_stock_on_hand\": \"sum\"})\n",
        "df_local = df_local.rename(columns={\"model_stock_on_hand\": \"xgBoostModel\", \"benchmark_stock_on_hand\": \"Base-Lift\"})\n",
        "ax = df_local.plot(figsize=(10, 10), grid = True)\n",
        "ax.set_xlabel(\"forecasting periods\")\n",
        "ax.set_ylabel(\"stock on hand (units)\")\n",
        "\n",
        "# ((df_local[\"xgBoostModel\"] - df_local[\"Base-Lift\"])/df_local[\"Base-Lift\"])#.mean()\n",
        "df_local.to_excel(\"1.xlsx\")"
      ]
    },
    {
      "cell_type": "code",
      "execution_count": null,
      "metadata": {
        "id": "-3pf32FkWoaU",
        "outputId": "d7bf31f2-5382-4ad2-f128-e725aa9abda6"
      },
      "outputs": [
        {
          "data": {
            "text/plain": [
              "-0.4583419575521598"
            ]
          },
          "execution_count": 258,
          "metadata": {},
          "output_type": "execute_result"
        },
        {
          "data": {
            "image/png": "[encoded data removed]",
            "text/plain": [
              "<Figure size 720x720 with 1 Axes>"
            ]
          },
          "metadata": {
            "needs_background": "light"
          },
          "output_type": "display_data"
        }
      ],
      "source": [
        "df_local = df_simulation_results.groupby(\"horizon\").agg({\"model_stockout\": \"sum\", \"benchmark_stockout\": \"sum\"})\n",
        "df_local = df_local.rename(columns={\"model_stockout\": \"xgBoostModel\", \"benchmark_stockout\": \"Base-Lift\"})\n",
        "ax = df_local.plot(figsize=(10, 10), grid = True)\n",
        "ax.set_xlabel(\"forecasting periods\")\n",
        "ax.set_ylabel(\"stockout (units)\")\n",
        "((df_local[\"xgBoostModel\"] - df_local[\"Base-Lift\"])/df_local[\"Base-Lift\"]).mean()"
      ]
    },
    {
      "cell_type": "code",
      "execution_count": null,
      "metadata": {
        "id": "sNRoSa1qWoaU",
        "outputId": "336b7f88-2ec1-4aa9-d764-df6d59c19b03"
      },
      "outputs": [
        {
          "data": {
            "text/plain": [
              "<matplotlib.legend.Legend at 0x148654340>"
            ]
          },
          "execution_count": 312,
          "metadata": {},
          "output_type": "execute_result"
        },
        {
          "data": {
            "image/png": "[encoded data removed]",
            "text/plain": [
              "<Figure size 720x504 with 1 Axes>"
            ]
          },
          "metadata": {
            "needs_background": "light"
          },
          "output_type": "display_data"
        }
      ],
      "source": [
        "df_local = df_simulation_results.groupby(\"horizon\").agg({\"model_stockout\": \"sum\", \"benchmark_stockout\": \"sum\", \"model_stock_on_hand\": \"sum\", \"benchmark_stock_on_hand\": \"sum\"}).iloc[1:]\n",
        "\n",
        "ax = df_local[[\"model_stockout\", \"model_stock_on_hand\"]].plot.scatter(x=\"model_stockout\", y=\"model_stock_on_hand\", grid=True, figsize=(10, 7), label=\"xgBoostModel\")\n",
        "for idx, (x, y) in enumerate(df_local[[\"model_stockout\", \"model_stock_on_hand\"]].values):\n",
        "    ax.annotate(idx+1, (x,y), size=10, xytext=(0,0), ha='left', textcoords='offset points')\n",
        "\n",
        "a, b, c = np.polyfit(df_local[\"model_stockout\"], df_local[\"model_stock_on_hand\"], 2)\n",
        "x2 = np.arange(0, 35000)\n",
        "y2 = [a*x**2 + b*x + c for x in x2]\n",
        "ax.plot(x2, y2)\n",
        "\n",
        "ax = df_local[[\"benchmark_stockout\", \"benchmark_stock_on_hand\"]].plot.scatter(x=\"benchmark_stockout\", y=\"benchmark_stock_on_hand\", ax=ax, color = 'orange', grid=True, figsize=(10, 7), label=\"Base-Lift\")\n",
        "for idx, (x, y) in enumerate(df_local[[\"benchmark_stockout\", \"benchmark_stock_on_hand\"]].values):\n",
        "    ax.annotate(idx+1, (x,y), size=10, xytext=(0,0), ha='left', textcoords='offset points')\n",
        "\n",
        "a, b, c = np.polyfit(df_local[\"benchmark_stockout\"], df_local[\"benchmark_stock_on_hand\"], 2)\n",
        "x1 = np.arange(0, 60000)\n",
        "y1 = [a*x**2 + b*x + c for x in x1]\n",
        "ax.plot(x1, y1, color=\"orange\")\n",
        "\n",
        "ax.set_xlabel(\"stockout\")\n",
        "ax.set_ylabel(\"stock on hand\")\n",
        "\n",
        "ax.legend()"
      ]
    },
    {
      "cell_type": "code",
      "execution_count": null,
      "metadata": {
        "id": "6VT3t8OcWoaU"
      },
      "outputs": [],
      "source": [
        "a, b, c = np.polyfit(df_local[\"benchmark_stockout\"], df_local[\"benchmark_stock_on_hand\"], 2)\n",
        "x1 = np.arange(0, 60000)\n",
        "y1 = [a*x**2 + b*x + c for x in x1]\n",
        "\n",
        "a, b, c = np.polyfit(df_local[\"model_stockout\"], df_local[\"model_stock_on_hand\"], 2)\n",
        "x2 = np.arange(0, 30000)\n",
        "y2 = [a*x**2 + b*x + c for x in x2]"
      ]
    },
    {
      "cell_type": "code",
      "execution_count": null,
      "metadata": {
        "id": "vzI_o-PlWoaU",
        "outputId": "c7aa86aa-f74e-433c-f831-3c86e196f997"
      },
      "outputs": [
        {
          "data": {
            "image/png": "[encoded data removed]",
            "text/plain": [
              "<Figure size 432x288 with 1 Axes>"
            ]
          },
          "metadata": {
            "needs_background": "light"
          },
          "output_type": "display_data"
        }
      ],
      "source": [
        "ax = plt.plot(x1, y1)\n",
        "ax = plt.plot(x2, y2)"
      ]
    },
    {
      "cell_type": "code",
      "execution_count": null,
      "metadata": {
        "id": "ZRDzWkIhWoaU",
        "outputId": "4190d0b9-6347-4b19-ada6-03f5a46d0306"
      },
      "outputs": [
        {
          "data": {
            "text/plain": [
              "[<matplotlib.lines.Line2D at 0x127eb3d60>]"
            ]
          },
          "execution_count": 264,
          "metadata": {},
          "output_type": "execute_result"
        },
        {
          "data": {
            "image/png": "[encoded data removed]",
            "text/plain": [
              "<Figure size 432x288 with 1 Axes>"
            ]
          },
          "metadata": {
            "needs_background": "light"
          },
          "output_type": "display_data"
        }
      ],
      "source": [
        "plt.plot(x, y)"
      ]
    },
    {
      "cell_type": "code",
      "execution_count": null,
      "metadata": {
        "id": "5eik1jnrWoaU"
      },
      "outputs": [],
      "source": []
    }
  ],
  "metadata": {
    "kernelspec": {
      "display_name": "Python 3",
      "language": "python",
      "name": "python3"
    },
    "language_info": {
      "codemirror_mode": {
        "name": "ipython",
        "version": 3
      },
      "file_extension": ".py",
      "mimetype": "text/x-python",
      "name": "python",
      "nbconvert_exporter": "python",
      "pygments_lexer": "ipython3",
      "version": "3.8.2"
    },
    "colab": {
      "provenance": []
    }
  },
  "nbformat": 4,
  "nbformat_minor": 0
}